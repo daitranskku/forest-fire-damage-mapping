{
 "cells": [
  {
   "cell_type": "markdown",
   "metadata": {
    "collapsed": true,
    "pycharm": {
     "name": "#%% md\n"
    }
   },
   "source": [
    "# Extract EXIF infor"
   ]
  },
  {
   "cell_type": "code",
   "execution_count": 1,
   "outputs": [],
   "source": [
    "import os\n",
    "from PIL import Image\n",
    "import numpy as np\n",
    "from tqdm import tqdm"
   ],
   "metadata": {
    "collapsed": false,
    "pycharm": {
     "name": "#%%\n"
    }
   }
  },
  {
   "cell_type": "code",
   "execution_count": 2,
   "outputs": [],
   "source": [
    "TRAIN_ON = 1\n",
    "# 1 = LOCATION 1\n",
    "# 2 = LOCATION 2"
   ],
   "metadata": {
    "collapsed": false,
    "pycharm": {
     "name": "#%%\n"
    }
   }
  },
  {
   "cell_type": "code",
   "execution_count": 3,
   "outputs": [],
   "source": [
    "PATH_ORIG_IMAGES = \"C:/Users/windows/Desktop/Research/3. Code/6. UnetFire/ImgLabel/official_data_10.6/location_2_orig_data/\"\n",
    "PATH_OVERLAY_IMAGES =  \"C:/Users/windows/Desktop/Research/3. Code/6. UnetFire/Results/0. Trained model/comparative_studies/img_results/2_overlay/proposed_method\""
   ],
   "metadata": {
    "collapsed": false,
    "pycharm": {
     "name": "#%%\n"
    }
   }
  },
  {
   "cell_type": "code",
   "execution_count": 4,
   "outputs": [],
   "source": [
    "PATH_SAVE = \"C:/Users/windows/Desktop/Research/3. Code/6. UnetFire/Results/0. Trained model/comparative_studies/img_results/3_final_for_orthophoto_data/6\""
   ],
   "metadata": {
    "collapsed": false,
    "pycharm": {
     "name": "#%%\n"
    }
   }
  },
  {
   "cell_type": "code",
   "execution_count": 5,
   "outputs": [],
   "source": [
    "if TRAIN_ON == 1:\n",
    "    TOTAL_NUM = 44\n",
    "elif TRAIN_ON == 2:\n",
    "    TOTAL_NUM = 43"
   ],
   "metadata": {
    "collapsed": false,
    "pycharm": {
     "name": "#%%\n"
    }
   }
  },
  {
   "cell_type": "code",
   "execution_count": 8,
   "outputs": [],
   "source": [
    "def copy_exif(total_num):\n",
    "    for img_num in tqdm(np.arange(1,total_num+1)):\n",
    "        path_orig = PATH_ORIG_IMAGES\n",
    "        os.chdir(path_orig)\n",
    "        if TRAIN_ON == 1:\n",
    "            file_name = \"orig2 ({}).jpg\".format(img_num)\n",
    "        elif TRAIN_ON == 2:\n",
    "            file_name = \"orig1 ({}).jpg\".format(img_num)\n",
    "        orig_img = Image.open(file_name)\n",
    "        orig_exif = orig_img.info['exif']\n",
    "\n",
    "        path_overlay = PATH_OVERLAY_IMAGES\n",
    "        os.chdir(path_overlay)\n",
    "        file_name = \"overlay{}.png\".format(img_num)\n",
    "        overlay_image = Image.open(file_name)\n",
    "\n",
    "        os.chdir(PATH_SAVE)\n",
    "        overlay_image.save('final{}.jpg'.format(img_num), exif=orig_exif)"
   ],
   "metadata": {
    "collapsed": false,
    "pycharm": {
     "name": "#%%\n"
    }
   }
  },
  {
   "cell_type": "code",
   "execution_count": 9,
   "outputs": [
    {
     "name": "stderr",
     "output_type": "stream",
     "text": [
      "100%|██████████| 44/44 [00:47<00:00,  1.09s/it]\n"
     ]
    }
   ],
   "source": [
    "copy_exif(total_num = TOTAL_NUM)\n"
   ],
   "metadata": {
    "collapsed": false,
    "pycharm": {
     "name": "#%%\n"
    }
   }
  }
 ],
 "metadata": {
  "kernelspec": {
   "display_name": "Python 3",
   "language": "python",
   "name": "python3"
  },
  "language_info": {
   "codemirror_mode": {
    "name": "ipython",
    "version": 2
   },
   "file_extension": ".py",
   "mimetype": "text/x-python",
   "name": "python",
   "nbconvert_exporter": "python",
   "pygments_lexer": "ipython2",
   "version": "2.7.6"
  }
 },
 "nbformat": 4,
 "nbformat_minor": 0
}